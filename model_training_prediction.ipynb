{
 "cells": [
  {
   "cell_type": "code",
   "execution_count": 4,
   "id": "c335e95e",
   "metadata": {},
   "outputs": [],
   "source": [
    "import yfinance as yf\n",
    "\n",
    "def extract_data_yf(tickers, Period = \"1y\"): # Note: Remember to make a way to delelte these files after use. Since they are only temporary files.\n",
    "    data = {}\n",
    "    for ticker in tickers:\n",
    "        df = yf.download(ticker, period=Period, interval=\"1d\",auto_adjust=True, progress=False)\n",
    "        filename = f\"temp_{ticker}_{Period}.csv\"\n",
    "        df.to_csv(filename)\n",
    "        data[ticker] = df\n",
    "    return data"
   ]
  },
  {
   "cell_type": "code",
   "execution_count": 9,
   "id": "7ab64660",
   "metadata": {},
   "outputs": [
    {
     "ename": "ModuleNotFoundError",
     "evalue": "No module named 'tensorflow'",
     "output_type": "error",
     "traceback": [
      "\u001b[31m---------------------------------------------------------------------------\u001b[39m",
      "\u001b[31mModuleNotFoundError\u001b[39m                       Traceback (most recent call last)",
      "\u001b[36mCell\u001b[39m\u001b[36m \u001b[39m\u001b[32mIn[9]\u001b[39m\u001b[32m, line 4\u001b[39m\n\u001b[32m      2\u001b[39m \u001b[38;5;28;01mimport\u001b[39;00m\u001b[38;5;250m \u001b[39m\u001b[34;01mnumpy\u001b[39;00m\u001b[38;5;250m \u001b[39m\u001b[38;5;28;01mas\u001b[39;00m\u001b[38;5;250m \u001b[39m\u001b[34;01mnp\u001b[39;00m\n\u001b[32m      3\u001b[39m \u001b[38;5;28;01mfrom\u001b[39;00m\u001b[38;5;250m \u001b[39m\u001b[34;01msklearn\u001b[39;00m\u001b[34;01m.\u001b[39;00m\u001b[34;01mpreprocessing\u001b[39;00m\u001b[38;5;250m \u001b[39m\u001b[38;5;28;01mimport\u001b[39;00m MinMaxScaler\n\u001b[32m----> \u001b[39m\u001b[32m4\u001b[39m \u001b[38;5;28;01mfrom\u001b[39;00m\u001b[38;5;250m \u001b[39m\u001b[34;01mtensorflow\u001b[39;00m\u001b[34;01m.\u001b[39;00m\u001b[34;01mkeras\u001b[39;00m\u001b[34;01m.\u001b[39;00m\u001b[34;01mmodels\u001b[39;00m\u001b[38;5;250m \u001b[39m\u001b[38;5;28;01mimport\u001b[39;00m Sequential\n\u001b[32m      5\u001b[39m \u001b[38;5;28;01mfrom\u001b[39;00m\u001b[38;5;250m \u001b[39m\u001b[34;01mtensorflow\u001b[39;00m\u001b[34;01m.\u001b[39;00m\u001b[34;01mkeras\u001b[39;00m\u001b[34;01m.\u001b[39;00m\u001b[34;01mlayers\u001b[39;00m\u001b[38;5;250m \u001b[39m\u001b[38;5;28;01mimport\u001b[39;00m LSTM, Dense\n\u001b[32m      6\u001b[39m \u001b[38;5;28;01mimport\u001b[39;00m\u001b[38;5;250m \u001b[39m\u001b[34;01mjoblib\u001b[39;00m\n",
      "\u001b[31mModuleNotFoundError\u001b[39m: No module named 'tensorflow'"
     ]
    }
   ],
   "source": [
    "import pandas as pd\n",
    "import numpy as np\n",
    "from sklearn.preprocessing import MinMaxScaler\n",
    "from tensorflow.keras.models import Sequential\n",
    "from tensorflow.keras.layers import LSTM, Dense\n",
    "import joblib\n",
    "\n",
    "df = extract_data_yf([\"AAPL\"], Period=\"max\")\n",
    "\n",
    "df = pd.DataFrame(data)\n",
    "df[\"Date\"] = pd.to_datetime(df[\"Date\"])\n",
    "df.set_index(\"Date\", inplace=True)\n",
    "\n",
    "# 2. Feature Engineering\n",
    "df[\"dayofweek\"] = df.index.dayofweek\n",
    "df[\"day\"] = df.index.day\n",
    "df[\"month\"] = df.index.month\n",
    "df[\"is_month_end\"] = df.index.is_month_end.astype(int)\n",
    "df[\"is_month_start\"] = df.index.is_month_start.astype(int)\n",
    "df[\"Close_lag1\"] = df[\"Close\"].shift(1)\n",
    "df[\"Volume_lag1\"] = df[\"Volume\"].shift(1)\n",
    "df[\"Close_rolling_mean_3\"] = df[\"Close\"].rolling(3).mean()\n",
    "df[\"Close_rolling_std_3\"] = df[\"Close\"].rolling(3).std()\n",
    "df[\"target\"] = df[\"Close\"].shift(-1)\n",
    "df.dropna(inplace=True)\n",
    "\n",
    "# 3. Prepare Features and Target\n",
    "features = [\n",
    "    \"Open\", \"High\", \"Low\", \"Volume\", \"dayofweek\", \"day\", \"month\",\n",
    "    \"Close_lag1\", \"Volume_lag1\", \"Close_rolling_mean_3\", \"Close_rolling_std_3\"\n",
    "]\n",
    "X = df[features].values\n",
    "y = df[\"target\"].values.reshape(-1, 1)\n",
    "\n",
    "# 4. Normalize Features\n",
    "scaler_X = MinMaxScaler()\n",
    "scaler_y = MinMaxScaler()\n",
    "X_scaled = scaler_X.fit_transform(X)\n",
    "y_scaled = scaler_y.fit_transform(y)\n",
    "\n",
    "# 5. Reshape for LSTM [samples, timesteps, features]\n",
    "X_lstm = X_scaled.reshape((X_scaled.shape[0], 1, X_scaled.shape[1]))\n",
    "\n",
    "# 6. Build LSTM Model\n",
    "model = Sequential([\n",
    "    LSTM(50, activation='relu', input_shape=(X_lstm.shape[1], X_lstm.shape[2])),\n",
    "    Dense(1)\n",
    "])\n",
    "model.compile(optimizer='adam', loss='mse')\n",
    "\n",
    "# 7. Train\n",
    "model.fit(X_lstm, y_scaled, epochs=100, verbose=0)\n",
    "\n",
    "# 8. Save Model and Scalers\n",
    "model.save(\"lstm_stock_model.keras\")\n",
    "joblib.dump(scaler_X, \"scaler_X.joblib\")\n",
    "joblib.dump(scaler_y, \"scaler_y.joblib\")\n"
   ]
  }
 ],
 "metadata": {
  "kernelspec": {
   "display_name": "Python 3",
   "language": "python",
   "name": "python3"
  },
  "language_info": {
   "codemirror_mode": {
    "name": "ipython",
    "version": 3
   },
   "file_extension": ".py",
   "mimetype": "text/x-python",
   "name": "python",
   "nbconvert_exporter": "python",
   "pygments_lexer": "ipython3",
   "version": "3.12.0"
  }
 },
 "nbformat": 4,
 "nbformat_minor": 5
}
