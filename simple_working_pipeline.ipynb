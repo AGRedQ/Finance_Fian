{
 "cells": [
  {
   "cell_type": "markdown",
   "id": "0ec45c29",
   "metadata": {},
   "source": [
    "# This is the simpliest pipeline of Fian.\n",
    "\n",
    "## There are 3 phases\n",
    "\n",
    "- Intent Detection\n",
    "\n",
    "- Feature Selection\n",
    "\n",
    "- Respond"
   ]
  },
  {
   "cell_type": "markdown",
   "id": "449f4f18",
   "metadata": {},
   "source": [
    "# Phase 1 - Intent Detection\n",
    "\n",
    "1. Extract user's intent (using TF-IDF + Logistic Regression)\n",
    "\n",
    "First, for good measure, I will train the model first (train it once and give out a joblib file, but I put it here for visualization)\n",
    "\n",
    "Second, I will use the model to predict what's the user's intent\n"
   ]
  },
  {
   "cell_type": "code",
   "execution_count": 9,
   "id": "52175b35",
   "metadata": {},
   "outputs": [
    {
     "name": "stdout",
     "output_type": "stream",
     "text": [
      "Model trained and saved as 'intent_with_LogisticRegression.joblib'.\n"
     ]
    }
   ],
   "source": [
    "# Model Training: Intent Detection\n",
    "\n",
    "# Please run once to get the joblib file\n",
    "import pandas as pd\n",
    "import joblib\n",
    "from sklearn.pipeline import Pipeline\n",
    "from sklearn.linear_model import LogisticRegression\n",
    "from sklearn.feature_extraction.text import TfidfVectorizer\n",
    "\n",
    "# STEP 1: Train from CSV and save model\n",
    "def intent_LogReg(csv_path='intent_dataset.csv'):\n",
    "    # Load CSV\n",
    "    df = pd.read_csv(csv_path)\n",
    "\n",
    "    # Make sure the expected columns exist\n",
    "    if 'text' not in df.columns or 'intent' not in df.columns:\n",
    "        raise ValueError(\"CSV must contain 'text' and 'intent' columns\")\n",
    "\n",
    "    texts = df['text'].astype(str).tolist()\n",
    "    labels = df['intent'].astype(str).tolist()\n",
    "\n",
    "    # Pipeline: TF-IDF + Logistic Regression\n",
    "    model = Pipeline([\n",
    "        ('tfidf', TfidfVectorizer()),\n",
    "        ('clf', LogisticRegression())\n",
    "    ])\n",
    "\n",
    "    # Train and save\n",
    "    model.fit(texts, labels)\n",
    "    joblib.dump(model, 'intent_with_LogisticRegression.joblib')\n",
    "    print(\"Model trained and saved as 'intent_with_LogisticRegression.joblib'.\")\n",
    "\n",
    "## == == == -- -- -- Main -- -- -- == == == ## \n",
    "intent_LogReg()"
   ]
  },
  {
   "cell_type": "code",
   "execution_count": 13,
   "id": "fb24c577",
   "metadata": {},
   "outputs": [],
   "source": [
    "def extract_intent(text, threshold=0.6):\n",
    "    try:\n",
    "        model = joblib.load('intent_with_LogisticRegression.joblib')\n",
    "        probs = model.predict_proba([text])[0]\n",
    "        best_index = probs.argmax()\n",
    "        confidence = probs[best_index]\n",
    "        intent = model.classes_[best_index]\n",
    "\n",
    "        if confidence >= threshold:\n",
    "            return intent, confidence\n",
    "        else:\n",
    "            return \"uncertain\", confidence\n",
    "\n",
    "    except FileNotFoundError:\n",
    "        return \"error: model not found — please run intent_LogReg() first\", 0.0\n"
   ]
  },
  {
   "cell_type": "code",
   "execution_count": 16,
   "id": "fc6599cc",
   "metadata": {},
   "outputs": [
    {
     "name": "stderr",
     "output_type": "stream",
     "text": [
      "C:\\Users\\dinhm\\AppData\\Local\\Temp\\ipykernel_4684\\1532089780.py:33: DeprecationWarning: on_submit is deprecated. Instead, set the .continuous_update attribute to False and observe the value changing with: mywidget.observe(callback, 'value').\n",
      "  text_input.on_submit(on_submit)\n"
     ]
    },
    {
     "data": {
      "application/vnd.jupyter.widget-view+json": {
       "model_id": "1511bdc294c84e2f8c449ae47adfa420",
       "version_major": 2,
       "version_minor": 0
      },
      "text/plain": [
       "Text(value='', description='You:', layout=Layout(width='80%'), placeholder='Type your message here...')"
      ]
     },
     "metadata": {},
     "output_type": "display_data"
    },
    {
     "data": {
      "application/vnd.jupyter.widget-view+json": {
       "model_id": "6c3ccede49e94879b3a5ab1f3732181d",
       "version_major": 2,
       "version_minor": 0
      },
      "text/plain": [
       "Output(layout=Layout(border_bottom='1px solid black', border_left='1px solid black', border_right='1px solid b…"
      ]
     },
     "metadata": {},
     "output_type": "display_data"
    }
   ],
   "source": [
    "from ipywidgets import widgets, Layout\n",
    "from IPython.display import display\n",
    "\n",
    "text_input = widgets.Text(\n",
    "    placeholder='Type your message here...',\n",
    "    description='You:',\n",
    "    layout=Layout(width='80%')\n",
    ")\n",
    "\n",
    "output_area = widgets.Output(layout=Layout(border='1px solid black', height='300px', overflow_y='auto'))\n",
    "\n",
    "def on_submit(sender):\n",
    "    user_text = sender.value\n",
    "    if user_text.lower() in ['exit', 'quit']:\n",
    "        with output_area:\n",
    "            print(\"Bot: Goodbye!\")\n",
    "        text_input.value = ''\n",
    "        text_input.disabled = True\n",
    "        return\n",
    "\n",
    "    intent, confidence = extract_intent(user_text)\n",
    "    with output_area:\n",
    "        if intent == \"uncertain\":\n",
    "            print(f\"Bot: Sorry, I didn't quite get that. Could you please rephrase or be more specific? (Confidence: {confidence:.2f})\")\n",
    "        elif intent.startswith(\"error:\"):\n",
    "            print(f\"Bot: {intent}\")\n",
    "            text_input.disabled = True\n",
    "        else:\n",
    "            print(f\"Bot: Intent detected -> {intent} (Confidence: {confidence:.2f})\")\n",
    "\n",
    "    text_input.value = ''\n",
    "\n",
    "text_input.on_submit(on_submit)\n",
    "display(text_input, output_area)\n"
   ]
  },
  {
   "cell_type": "code",
   "execution_count": null,
   "id": "a3168025",
   "metadata": {},
   "outputs": [],
   "source": []
  }
 ],
 "metadata": {
  "kernelspec": {
   "display_name": "Python 3",
   "language": "python",
   "name": "python3"
  },
  "language_info": {
   "codemirror_mode": {
    "name": "ipython",
    "version": 3
   },
   "file_extension": ".py",
   "mimetype": "text/x-python",
   "name": "python",
   "nbconvert_exporter": "python",
   "pygments_lexer": "ipython3",
   "version": "3.13.3"
  }
 },
 "nbformat": 4,
 "nbformat_minor": 5
}
