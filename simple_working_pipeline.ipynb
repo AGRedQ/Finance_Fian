{
 "cells": [
  {
   "cell_type": "markdown",
   "id": "0ec45c29",
   "metadata": {},
   "source": [
    "# This is the simpliest pipeline of Fian.\n",
    "\n",
    "## There are 3 phases\n",
    "\n",
    "- Intent Detection\n",
    "\n",
    "- Feature Selection\n",
    "\n",
    "- Respond"
   ]
  },
  {
   "cell_type": "markdown",
   "id": "449f4f18",
   "metadata": {},
   "source": [
    "# Phase 1 - Intent Detection\n",
    "\n",
    "1. Extract user's intent (using TF-IDF + Logistic Regression)\n",
    "\n",
    "First, for good measure, I will train the model first (train it once and give out a joblib file, but there for visualization)\n",
    "\n",
    "Second, I will use the model to predict what's the user's intent\n"
   ]
  },
  {
   "cell_type": "code",
   "execution_count": 1,
   "id": "52175b35",
   "metadata": {},
   "outputs": [
    {
     "name": "stdout",
     "output_type": "stream",
     "text": [
      "Model trained and saved as 'intent_with_LogisticRegression.joblib'.\n"
     ]
    }
   ],
   "source": [
    "# Model Training: Intent Detection\n",
    "import pandas as pd\n",
    "import joblib\n",
    "from sklearn.pipeline import Pipeline\n",
    "from sklearn.linear_model import LogisticRegression\n",
    "from sklearn.feature_extraction.text import TfidfVectorizer\n",
    "\n",
    "# STEP 1: Train from CSV and save model\n",
    "def intent_LogReg(csv_path='intent_dataset.csv'):\n",
    "    # Load CSV\n",
    "    df = pd.read_csv(csv_path)\n",
    "\n",
    "    # Make sure the expected columns exist\n",
    "    if 'text' not in df.columns or 'intent' not in df.columns:\n",
    "        raise ValueError(\"CSV must contain 'text' and 'intent' columns\")\n",
    "\n",
    "    texts = df['text'].astype(str).tolist()\n",
    "    labels = df['intent'].astype(str).tolist()\n",
    "\n",
    "    # Pipeline: TF-IDF + Logistic Regression\n",
    "    model = Pipeline([\n",
    "        ('tfidf', TfidfVectorizer()),\n",
    "        ('clf', LogisticRegression())\n",
    "    ])\n",
    "\n",
    "    # Train and save\n",
    "    model.fit(texts, labels)\n",
    "    joblib.dump(model, 'intent_with_LogisticRegression.joblib')\n",
    "    print(\"Model trained and saved as 'intent_with_LogisticRegression.joblib'.\")\n",
    "\n",
    "def extract_intent(text, threshold=0.6):\n",
    "    try:\n",
    "        model = joblib.load('intent_with_LogisticRegression.joblib')\n",
    "        probs = model.predict_proba([text])[0]\n",
    "        best_index = probs.argmax()\n",
    "        confidence = probs[best_index]\n",
    "        intent = model.classes_[best_index]\n",
    "\n",
    "        if confidence >= threshold:\n",
    "            return intent\n",
    "        else:\n",
    "            return \"uncertain\"\n",
    "\n",
    "    except FileNotFoundError:\n",
    "        return \"error: model not found — please run intent_LogReg() first\"\n",
    "\n",
    "intent_LogReg()\n"
   ]
  },
  {
   "cell_type": "code",
   "execution_count": 2,
   "id": "a7172959",
   "metadata": {},
   "outputs": [],
   "source": [
    "def chat_interface():\n",
    "    print(\"=== Intent Detection Chat (type 'exit' to quit) ===\")\n",
    "    while True:\n",
    "        user_input = input(\"You: \")\n",
    "        if user_input.lower() in ['exit', 'quit']:\n",
    "            print(\"Bot: Goodbye!\")\n",
    "            break\n",
    "\n",
    "        intent = extract_intent(user_input)\n",
    "        if intent == \"uncertain\":\n",
    "            print(\"Bot: Hmm, not confident. Can you clarify that?\")\n",
    "        elif intent.startswith(\"error:\"):\n",
    "            print(f\"Bot: {intent}\")\n",
    "            break\n",
    "        else:\n",
    "            print(f\"Bot: I think your intent is: {intent}\")\n"
   ]
  },
  {
   "cell_type": "code",
   "execution_count": null,
   "id": "a3168025",
   "metadata": {},
   "outputs": [
    {
     "name": "stdout",
     "output_type": "stream",
     "text": [
      "=== Intent Detection Chat (type 'exit' to quit) ===\n"
     ]
    }
   ],
   "source": [
    "chat_interface()"
   ]
  }
 ],
 "metadata": {
  "kernelspec": {
   "display_name": "Python 3",
   "language": "python",
   "name": "python3"
  },
  "language_info": {
   "codemirror_mode": {
    "name": "ipython",
    "version": 3
   },
   "file_extension": ".py",
   "mimetype": "text/x-python",
   "name": "python",
   "nbconvert_exporter": "python",
   "pygments_lexer": "ipython3",
   "version": "3.13.3"
  }
 },
 "nbformat": 4,
 "nbformat_minor": 5
}
