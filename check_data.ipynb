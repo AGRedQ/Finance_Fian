{
 "cells": [
  {
   "cell_type": "code",
   "execution_count": 1,
   "id": "205ddfee",
   "metadata": {},
   "outputs": [
    {
     "name": "stdout",
     "output_type": "stream",
     "text": [
      "Total rows: 1312, Total columns: 2\n",
      "Number of duplicate rows: 2\n",
      "label\n",
      "0.0    789\n",
      "1.0    522\n",
      "Name: count, dtype: int64\n"
     ]
    }
   ],
   "source": [
    "import pandas as pd\n",
    "\n",
    "# Import CSV from the path stored in variable 'path'\n",
    "path = \"stock_dataset.csv\"\n",
    "df = pd.read_csv(path)\n",
    "\n",
    "# Check for duplicate rows\n",
    "duplicates = df.duplicated()\n",
    "\n",
    "# Check total number of rows and columns\n",
    "print(f\"Total rows: {df.shape[0]}, Total columns: {df.shape[1]}\")\n",
    "# Print the number of duplicate rows\n",
    "\n",
    "print(f\"Number of duplicate rows: {duplicates.sum()}\")\n",
    "\n",
    "print(df['label'].value_counts())"
   ]
  },
  {
   "cell_type": "code",
   "execution_count": 3,
   "id": "db759ca4",
   "metadata": {},
   "outputs": [
    {
     "name": "stdout",
     "output_type": "stream",
     "text": [
      "Requirement already satisfied: torch in d:\\python\\python310\\lib\\site-packages (2.6.0)\n",
      "Requirement already satisfied: filelock in d:\\python\\python310\\lib\\site-packages (from torch) (3.18.0)\n",
      "Requirement already satisfied: typing-extensions>=4.10.0 in d:\\python\\python310\\lib\\site-packages (from torch) (4.14.0)\n",
      "Requirement already satisfied: networkx in d:\\python\\python310\\lib\\site-packages (from torch) (3.4.2)\n",
      "Requirement already satisfied: jinja2 in d:\\python\\python310\\lib\\site-packages (from torch) (3.1.6)\n",
      "Requirement already satisfied: fsspec in d:\\python\\python310\\lib\\site-packages (from torch) (2025.5.1)\n",
      "Requirement already satisfied: sympy==1.13.1 in d:\\python\\python310\\lib\\site-packages (from torch) (1.13.1)\n",
      "Requirement already satisfied: mpmath<1.4,>=1.1.0 in d:\\python\\python310\\lib\\site-packages (from sympy==1.13.1->torch) (1.3.0)\n",
      "Requirement already satisfied: MarkupSafe>=2.0 in d:\\python\\python310\\lib\\site-packages (from jinja2->torch) (3.0.2)\n",
      "Note: you may need to restart the kernel to use updated packages.\n",
      "Requirement already satisfied: transformers in d:\\python\\python310\\lib\\site-packages (4.52.4)\n",
      "Requirement already satisfied: filelock in d:\\python\\python310\\lib\\site-packages (from transformers) (3.18.0)\n",
      "Requirement already satisfied: huggingface-hub<1.0,>=0.30.0 in d:\\python\\python310\\lib\\site-packages (from transformers) (0.33.0)\n",
      "Requirement already satisfied: numpy>=1.17 in d:\\python\\python310\\lib\\site-packages (from transformers) (2.1.3)\n",
      "Requirement already satisfied: packaging>=20.0 in d:\\python\\python310\\lib\\site-packages (from transformers) (25.0)\n",
      "Requirement already satisfied: pyyaml>=5.1 in d:\\python\\python310\\lib\\site-packages (from transformers) (6.0.2)\n",
      "Requirement already satisfied: regex!=2019.12.17 in d:\\python\\python310\\lib\\site-packages (from transformers) (2024.11.6)\n",
      "Requirement already satisfied: requests in d:\\python\\python310\\lib\\site-packages (from transformers) (2.32.4)\n",
      "Requirement already satisfied: tokenizers<0.22,>=0.21 in d:\\python\\python310\\lib\\site-packages (from transformers) (0.21.1)\n",
      "Requirement already satisfied: safetensors>=0.4.3 in d:\\python\\python310\\lib\\site-packages (from transformers) (0.5.3)\n",
      "Requirement already satisfied: tqdm>=4.27 in d:\\python\\python310\\lib\\site-packages (from transformers) (4.67.1)\n",
      "Requirement already satisfied: fsspec>=2023.5.0 in d:\\python\\python310\\lib\\site-packages (from huggingface-hub<1.0,>=0.30.0->transformers) (2025.5.1)\n",
      "Requirement already satisfied: typing-extensions>=3.7.4.3 in d:\\python\\python310\\lib\\site-packages (from huggingface-hub<1.0,>=0.30.0->transformers) (4.14.0)\n",
      "Requirement already satisfied: colorama in d:\\python\\python310\\lib\\site-packages (from tqdm>=4.27->transformers) (0.4.6)\n",
      "Requirement already satisfied: charset_normalizer<4,>=2 in d:\\python\\python310\\lib\\site-packages (from requests->transformers) (3.4.2)\n",
      "Requirement already satisfied: idna<4,>=2.5 in d:\\python\\python310\\lib\\site-packages (from requests->transformers) (3.10)\n",
      "Requirement already satisfied: urllib3<3,>=1.21.1 in d:\\python\\python310\\lib\\site-packages (from requests->transformers) (2.4.0)\n",
      "Requirement already satisfied: certifi>=2017.4.17 in d:\\python\\python310\\lib\\site-packages (from requests->transformers) (2025.4.26)\n",
      "Note: you may need to restart the kernel to use updated packages.\n"
     ]
    },
    {
     "name": "stderr",
     "output_type": "stream",
     "text": [
      "Some weights of DistilBertForSequenceClassification were not initialized from the model checkpoint at distilbert-base-uncased and are newly initialized: ['classifier.bias', 'classifier.weight', 'pre_classifier.bias', 'pre_classifier.weight']\n",
      "You should probably TRAIN this model on a down-stream task to be able to use it for predictions and inference.\n"
     ]
    },
    {
     "name": "stdout",
     "output_type": "stream",
     "text": [
      "{'loss': 0.5755, 'grad_norm': 8.977652549743652, 'learning_rate': 4.656488549618321e-05, 'epoch': 0.07633587786259542}\n",
      "{'loss': 0.2623, 'grad_norm': 0.9497588276863098, 'learning_rate': 4.2748091603053435e-05, 'epoch': 0.15267175572519084}\n",
      "{'loss': 0.1016, 'grad_norm': 0.4006009101867676, 'learning_rate': 3.8931297709923666e-05, 'epoch': 0.22900763358778625}\n",
      "{'loss': 0.0921, 'grad_norm': 17.418718338012695, 'learning_rate': 3.511450381679389e-05, 'epoch': 0.3053435114503817}\n",
      "{'loss': 0.0161, 'grad_norm': 0.12344273924827576, 'learning_rate': 3.129770992366413e-05, 'epoch': 0.3816793893129771}\n",
      "{'loss': 0.0065, 'grad_norm': 0.10540562123060226, 'learning_rate': 2.7480916030534355e-05, 'epoch': 0.4580152671755725}\n",
      "{'loss': 0.0254, 'grad_norm': 0.09454644471406937, 'learning_rate': 2.3664122137404583e-05, 'epoch': 0.5343511450381679}\n",
      "{'loss': 0.0042, 'grad_norm': 0.24802830815315247, 'learning_rate': 1.984732824427481e-05, 'epoch': 0.6106870229007634}\n",
      "{'loss': 0.0083, 'grad_norm': 19.076425552368164, 'learning_rate': 1.6030534351145038e-05, 'epoch': 0.6870229007633588}\n",
      "{'loss': 0.0092, 'grad_norm': 2.2617828845977783, 'learning_rate': 1.2213740458015267e-05, 'epoch': 0.7633587786259542}\n",
      "{'loss': 0.0026, 'grad_norm': 0.0376380980014801, 'learning_rate': 8.396946564885497e-06, 'epoch': 0.8396946564885496}\n",
      "{'loss': 0.0026, 'grad_norm': 0.02884637378156185, 'learning_rate': 4.580152671755725e-06, 'epoch': 0.916030534351145}\n",
      "{'loss': 0.0021, 'grad_norm': 0.03387324884533882, 'learning_rate': 7.633587786259542e-07, 'epoch': 0.9923664122137404}\n",
      "{'eval_loss': 0.02515152283012867, 'eval_runtime': 2.646, 'eval_samples_per_second': 99.395, 'eval_steps_per_second': 12.472, 'epoch': 1.0}\n",
      "{'train_runtime': 68.2276, 'train_samples_per_second': 15.36, 'train_steps_per_second': 1.92, 'train_loss': 0.0846335306134473, 'epoch': 1.0}\n"
     ]
    },
    {
     "data": {
      "text/plain": [
       "TrainOutput(global_step=131, training_loss=0.0846335306134473, metrics={'train_runtime': 68.2276, 'train_samples_per_second': 15.36, 'train_steps_per_second': 1.92, 'train_loss': 0.0846335306134473, 'epoch': 1.0})"
      ]
     },
     "execution_count": 3,
     "metadata": {},
     "output_type": "execute_result"
    }
   ],
   "source": [
    "\n",
    "from transformers import DistilBertTokenizerFast, DistilBertForSequenceClassification, Trainer\n",
    "from transformers import TrainingArguments\n",
    "import torch\n",
    "from torch.utils.data import Dataset\n",
    "from sklearn.model_selection import train_test_split\n",
    "\n",
    "# Prepare data\n",
    "train_df, val_df = train_test_split(df.dropna(subset=['label']), test_size=0.2, random_state=42, stratify=df['label'].dropna())\n",
    "\n",
    "tokenizer = DistilBertTokenizerFast.from_pretrained('distilbert-base-uncased')\n",
    "\n",
    "class TextDataset(Dataset):\n",
    "    def __init__(self, dataframe, tokenizer, max_len=128):\n",
    "        self.encodings = tokenizer(\n",
    "            dataframe['text'].tolist(),\n",
    "            truncation=True,\n",
    "            padding=True,\n",
    "            max_length=max_len\n",
    "        )\n",
    "        self.labels = dataframe['label'].astype(int).tolist()\n",
    "    def __getitem__(self, idx):\n",
    "        item = {key: torch.tensor(val[idx]) for key, val in self.encodings.items()}\n",
    "        item['labels'] = torch.tensor(self.labels[idx])\n",
    "        return item\n",
    "    def __len__(self):\n",
    "        return len(self.labels)\n",
    "\n",
    "train_dataset = TextDataset(train_df, tokenizer)\n",
    "val_dataset = TextDataset(val_df, tokenizer)\n",
    "\n",
    "model = DistilBertForSequenceClassification.from_pretrained('distilbert-base-uncased', num_labels=2)\n",
    "\n",
    "training_args = TrainingArguments(\n",
    "    output_dir='./results',\n",
    "    num_train_epochs=1,\n",
    "    per_device_train_batch_size=8,\n",
    "    per_device_eval_batch_size=8,\n",
    "    eval_strategy=\"epoch\",\n",
    "    save_strategy=\"no\",\n",
    "    logging_steps=10,\n",
    "    disable_tqdm=True\n",
    ")\n",
    "\n",
    "trainer = Trainer(\n",
    "    model=model,\n",
    "    args=training_args,\n",
    "    train_dataset=train_dataset,\n",
    "    eval_dataset=val_dataset\n",
    ")\n",
    "\n",
    "trainer.train()"
   ]
  },
  {
   "cell_type": "code",
   "execution_count": 8,
   "id": "5f1c6a50",
   "metadata": {},
   "outputs": [
    {
     "name": "stdout",
     "output_type": "stream",
     "text": [
      "Predicted class: 1\n"
     ]
    }
   ],
   "source": [
    "raw_text = \"Tell me about the profit margin of Apple in the last quarter.\"\n",
    "inputs = tokenizer(raw_text, return_tensors='pt', truncation=True, padding=True)\n",
    "outputs = model(**inputs)\n",
    "predicted_class = outputs.logits.argmax(dim=1).item()\n",
    "print(f\"Predicted class: {predicted_class}\")"
   ]
  },
  {
   "cell_type": "code",
   "execution_count": null,
   "id": "d7274f4d",
   "metadata": {},
   "outputs": [],
   "source": []
  },
  {
   "cell_type": "code",
   "execution_count": null,
   "id": "3f525bb5",
   "metadata": {},
   "outputs": [],
   "source": []
  }
 ],
 "metadata": {
  "kernelspec": {
   "display_name": "Python 3",
   "language": "python",
   "name": "python3"
  },
  "language_info": {
   "codemirror_mode": {
    "name": "ipython",
    "version": 3
   },
   "file_extension": ".py",
   "mimetype": "text/x-python",
   "name": "python",
   "nbconvert_exporter": "python",
   "pygments_lexer": "ipython3",
   "version": "3.10.6"
  }
 },
 "nbformat": 4,
 "nbformat_minor": 5
}
