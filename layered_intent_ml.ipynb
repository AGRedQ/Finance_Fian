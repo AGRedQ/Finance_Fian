{
 "cells": [
  {
   "cell_type": "code",
   "execution_count": 4,
   "id": "9fa25391",
   "metadata": {},
   "outputs": [
    {
     "name": "stdout",
     "output_type": "stream",
     "text": [
      "Total duplicate rows: 99890\n",
      "Example duplicate rows:\n",
      "                                     query     label\n",
      "4                 How do I cook spaghetti?  nonstock\n",
      "12                How do I cook spaghetti?  nonstock\n",
      "14          What is the capital of Canada?  nonstock\n",
      "15          Can you recommend a good book?  nonstock\n",
      "20  What's the best way to clean a carpet?  nonstock\n",
      "After removing duplicates: 0\n",
      "                                          query  \\\n",
      "207    When is a good time to invest in Amazon?   \n",
      "5      How is Netflix performing in the market?   \n",
      "754      When is a good time to invest in Meta?   \n",
      "216     How is Google performing in the market?   \n",
      "225  What is the forecast for Microsoft shares?   \n",
      "\n",
      "                               processed_query  \n",
      "207    when is a good time to invest in amazon  \n",
      "5      how is netflix performing in the market  \n",
      "754      when is a good time to invest in meta  \n",
      "216     how is google performing in the market  \n",
      "225  what is the forecast for microsoft shares  \n"
     ]
    }
   ],
   "source": [
    "import pandas as pd\n",
    "import re\n",
    "\n",
    "# Load your data\n",
    "df = pd.read_csv('stock_vs_nonstock_queries.csv')\n",
    "# Print out total duplicate rows in the dataframe\n",
    "print(\"Total duplicate rows:\", df.duplicated().sum())\n",
    "if df.duplicated().sum() > 0:\n",
    "    print(\"Example duplicate rows:\")\n",
    "    print(df[df.duplicated()].head())\n",
    "else:\n",
    "    print(\"No duplicate rows found.\")\n",
    "# Remove duplicate rows\n",
    "df = df.drop_duplicates()\n",
    "print(\"After removing duplicates:\", df.duplicated().sum())\n",
    "# Simple text preprocessing function\n",
    "def preprocess_text(text):\n",
    "    text = text.lower()\n",
    "    text = re.sub(r'[^a-z0-9\\s]', '', text)\n",
    "    text = re.sub(r'\\s+', ' ', text).strip()\n",
    "    return text\n",
    "    # Print example of duplicate rows\n",
    "\n",
    "# Apply preprocessing to the 'query' column\n",
    "df['processed_query'] = df['query'].astype(str).apply(preprocess_text)\n",
    "\n",
    "# Print 5 samples\n",
    "print(df[['query', 'processed_query']].sample(5))\n"
   ]
  },
  {
   "cell_type": "code",
   "execution_count": 20,
   "id": "d2362c78",
   "metadata": {},
   "outputs": [
    {
     "name": "stdout",
     "output_type": "stream",
     "text": [
      "Logistic Regression Accuracy: 1.0000\n",
      "SVM Accuracy: 1.0000\n",
      "Random Forest Accuracy: 1.0000\n"
     ]
    }
   ],
   "source": [
    "from sklearn.model_selection import train_test_split\n",
    "from sklearn.feature_extraction.text import TfidfVectorizer\n",
    "from sklearn.linear_model import LogisticRegression\n",
    "from sklearn.svm import LinearSVC\n",
    "from sklearn.ensemble import RandomForestClassifier\n",
    "from sklearn.metrics import accuracy_score\n",
    "\n",
    "# Split data (80% train, 20% test)\n",
    "X_train, X_test, y_train, y_test = train_test_split(\n",
    "    df['processed_query'], df['label'], test_size=0.2, random_state=42, stratify=df['label']\n",
    ")\n",
    "\n",
    "# Vectorize text\n",
    "vectorizer = TfidfVectorizer()\n",
    "X_train_vec = vectorizer.fit_transform(X_train)\n",
    "X_test_vec = vectorizer.transform(X_test)\n",
    "\n",
    "# Logistic Regression\n",
    "lr = LogisticRegression(max_iter=1000)\n",
    "lr.fit(X_train_vec, y_train)\n",
    "lr_pred = lr.predict(X_test_vec)\n",
    "lr_acc = accuracy_score(y_test, lr_pred)\n",
    "\n",
    "# SVM\n",
    "svm = LinearSVC()\n",
    "svm.fit(X_train_vec, y_train)\n",
    "svm_pred = svm.predict(X_test_vec)\n",
    "svm_acc = accuracy_score(y_test, svm_pred)\n",
    "\n",
    "# Random Forest\n",
    "rf = RandomForestClassifier(n_estimators=100, random_state=42)\n",
    "rf.fit(X_train_vec, y_train)\n",
    "rf_pred = rf.predict(X_test_vec)\n",
    "rf_acc = accuracy_score(y_test, rf_pred)\n",
    "\n",
    "print(f\"Logistic Regression Accuracy: {lr_acc:.4f}\")\n",
    "print(f\"SVM Accuracy: {svm_acc:.4f}\")\n",
    "print(f\"Random Forest Accuracy: {rf_acc:.4f}\")"
   ]
  },
  {
   "cell_type": "code",
   "execution_count": 7,
   "id": "f64a279f",
   "metadata": {},
   "outputs": [
    {
     "name": "stdout",
     "output_type": "stream",
     "text": [
      "Query: Can a banana drive a car?\n",
      "  Logistic Regression: not_stock\n",
      "  SVM: not_stock\n",
      "  Random Forest: not_stock\n",
      "\n",
      "Query: What is the square root of a sandwich?\n",
      "  Logistic Regression: stock\n",
      "  SVM: stock\n",
      "  Random Forest: stock\n",
      "\n",
      "Query: How many unicorns fit in a teacup?\n",
      "  Logistic Regression: not_stock\n",
      "  SVM: not_stock\n",
      "  Random Forest: not_stock\n",
      "\n",
      "Query: Translate 'meow' to dolphin language.\n",
      "  Logistic Regression: not_stock\n",
      "  SVM: not_stock\n",
      "  Random Forest: not_stock\n",
      "\n",
      "Query: Is it raining spaghetti on Mars today?\n",
      "  Logistic Regression: not_stock\n",
      "  SVM: not_stock\n",
      "  Random Forest: not_stock\n",
      "\n"
     ]
    }
   ],
   "source": [
    "# Example queries\n",
    "queries = [\n",
    "    \"Can a banana drive a car?\",\n",
    "    \"What is the square root of a sandwich?\",\n",
    "    \"How many unicorns fit in a teacup?\",\n",
    "    \"Translate 'meow' to dolphin language.\",\n",
    "    \"Is it raining spaghetti on Mars today?\"\n",
    "]\n",
    "\n",
    "# Preprocess example queries\n",
    "processed_queries = [preprocess_text(q) for q in queries]\n",
    "\n",
    "# Vectorize example queries\n",
    "queries_vec = vectorizer.transform(processed_queries)\n",
    "\n",
    "# Predict with all three models\n",
    "lr_preds = lr.predict(queries_vec)\n",
    "svm_preds = svm.predict(queries_vec)\n",
    "rf_preds = rf.predict(queries_vec)\n",
    "\n",
    "# Display predictions\n",
    "for i, q in enumerate(queries):\n",
    "    print(f\"Query: {q}\")\n",
    "    print(f\"  Logistic Regression: {lr_preds[i]}\")\n",
    "    print(f\"  SVM: {svm_preds[i]}\")\n",
    "    print(f\"  Random Forest: {rf_preds[i]}\")\n",
    "    print()"
   ]
  },
  {
   "cell_type": "code",
   "execution_count": 10,
   "id": "dde640bd",
   "metadata": {},
   "outputs": [
    {
     "name": "stdout",
     "output_type": "stream",
     "text": [
      "WARNING:tensorflow:From d:\\Python\\python310\\lib\\site-packages\\tf_keras\\src\\losses.py:2976: The name tf.losses.sparse_softmax_cross_entropy is deprecated. Please use tf.compat.v1.losses.sparse_softmax_cross_entropy instead.\n",
      "\n"
     ]
    },
    {
     "name": "stderr",
     "output_type": "stream",
     "text": [
      "Xet Storage is enabled for this repo, but the 'hf_xet' package is not installed. Falling back to regular HTTP download. For better performance, install the package with: `pip install huggingface_hub[hf_xet]` or `pip install hf_xet`\n"
     ]
    },
    {
     "name": "stdout",
     "output_type": "stream",
     "text": [
      "WARNING:tensorflow:From d:\\Python\\python310\\lib\\site-packages\\tf_keras\\src\\backend.py:873: The name tf.get_default_graph is deprecated. Please use tf.compat.v1.get_default_graph instead.\n",
      "\n"
     ]
    },
    {
     "name": "stderr",
     "output_type": "stream",
     "text": [
      "Some weights of the PyTorch model were not used when initializing the TF 2.0 model TFDistilBertForSequenceClassification: ['vocab_transform.bias', 'vocab_layer_norm.bias', 'vocab_transform.weight', 'vocab_layer_norm.weight', 'vocab_projector.bias']\n",
      "- This IS expected if you are initializing TFDistilBertForSequenceClassification from a PyTorch model trained on another task or with another architecture (e.g. initializing a TFBertForSequenceClassification model from a BertForPreTraining model).\n",
      "- This IS NOT expected if you are initializing TFDistilBertForSequenceClassification from a PyTorch model that you expect to be exactly identical (e.g. initializing a TFBertForSequenceClassification model from a BertForSequenceClassification model).\n",
      "Some weights or buffers of the TF 2.0 model TFDistilBertForSequenceClassification were not initialized from the PyTorch model and are newly initialized: ['pre_classifier.weight', 'pre_classifier.bias', 'classifier.weight', 'classifier.bias']\n",
      "You should probably TRAIN this model on a down-stream task to be able to use it for predictions and inference.\n"
     ]
    },
    {
     "name": "stdout",
     "output_type": "stream",
     "text": [
      "Epoch 1/2\n",
      "WARNING:tensorflow:From d:\\Python\\python310\\lib\\site-packages\\tf_keras\\src\\utils\\tf_utils.py:492: The name tf.ragged.RaggedTensorValue is deprecated. Please use tf.compat.v1.ragged.RaggedTensorValue instead.\n",
      "\n",
      "WARNING:tensorflow:From d:\\Python\\python310\\lib\\site-packages\\tf_keras\\src\\engine\\base_layer_utils.py:384: The name tf.executing_eagerly_outside_functions is deprecated. Please use tf.compat.v1.executing_eagerly_outside_functions instead.\n",
      "\n",
      "500/500 [==============================] - 224s 427ms/step - loss: 0.0169 - accuracy: 0.9949 - val_loss: 5.8159e-05 - val_accuracy: 1.0000\n",
      "Epoch 2/2\n",
      "500/500 [==============================] - 212s 425ms/step - loss: 4.0748e-05 - accuracy: 1.0000 - val_loss: 1.2236e-05 - val_accuracy: 1.0000\n",
      "125/125 [==============================] - 7s 55ms/step - loss: 1.2236e-05 - accuracy: 1.0000\n",
      "DistilBERT Test Accuracy: 1.0000\n"
     ]
    }
   ],
   "source": [
    "from transformers import DistilBertTokenizerFast, TFDistilBertForSequenceClassification\n",
    "import tensorflow as tf\n",
    "from sklearn.preprocessing import LabelEncoder\n",
    "\n",
    "# Encode labels\n",
    "le = LabelEncoder()\n",
    "y_train_enc = le.fit_transform(y_train)\n",
    "y_test_enc = le.transform(y_test)\n",
    "\n",
    "# Load tokenizer and model\n",
    "tokenizer = DistilBertTokenizerFast.from_pretrained('distilbert-base-uncased')\n",
    "model = TFDistilBertForSequenceClassification.from_pretrained('distilbert-base-uncased', num_labels=len(le.classes_))\n",
    "\n",
    "# Tokenize data\n",
    "train_encodings = tokenizer(list(X_train), truncation=True, padding=True, max_length=64)\n",
    "test_encodings = tokenizer(list(X_test), truncation=True, padding=True, max_length=64)\n",
    "\n",
    "# Convert to tf.data.Dataset\n",
    "train_dataset = tf.data.Dataset.from_tensor_slices((\n",
    "    dict(train_encodings),\n",
    "    y_train_enc\n",
    ")).batch(16)\n",
    "\n",
    "test_dataset = tf.data.Dataset.from_tensor_slices((\n",
    "    dict(test_encodings),\n",
    "    y_test_enc\n",
    ")).batch(16)\n",
    "\n",
    "# Compile and train\n",
    "model.compile(optimizer=tf.keras.optimizers.Adam(learning_rate=5e-5),\n",
    "              loss=tf.keras.losses.SparseCategoricalCrossentropy(from_logits=True),\n",
    "              metrics=['accuracy'])\n",
    "\n",
    "model.fit(train_dataset, epochs=2, validation_data=test_dataset)\n",
    "\n",
    "# Evaluate\n",
    "loss, accuracy = model.evaluate(test_dataset)\n",
    "print(f\"DistilBERT Test Accuracy: {accuracy:.4f}\")"
   ]
  },
  {
   "cell_type": "code",
   "execution_count": 18,
   "id": "f570ed64",
   "metadata": {},
   "outputs": [
    {
     "name": "stdout",
     "output_type": "stream",
     "text": [
      "Prediction: not_stock\n"
     ]
    }
   ],
   "source": [
    "# Chat loop to test DistilBERT model\n",
    "while True:\n",
    "    user_input = input(\"Enter your query (or type 'exit' to quit): \")\n",
    "    if user_input.lower() == 'exit':\n",
    "        break\n",
    "    # Preprocess input\n",
    "    processed = preprocess_text(user_input)\n",
    "    # Tokenize\n",
    "    encoding = tokenizer([processed], truncation=True, padding=True, max_length=64, return_tensors='tf')\n",
    "    # Predict\n",
    "    logits = model(encoding).logits\n",
    "    pred_label_id = tf.argmax(logits, axis=1).numpy()[0]\n",
    "    pred_label = le.inverse_transform([pred_label_id])[0]\n",
    "    print(f\"Prediction: {pred_label}\")"
   ]
  }
 ],
 "metadata": {
  "kernelspec": {
   "display_name": "Python 3",
   "language": "python",
   "name": "python3"
  },
  "language_info": {
   "codemirror_mode": {
    "name": "ipython",
    "version": 3
   },
   "file_extension": ".py",
   "mimetype": "text/x-python",
   "name": "python",
   "nbconvert_exporter": "python",
   "pygments_lexer": "ipython3",
   "version": "3.10.6"
  }
 },
 "nbformat": 4,
 "nbformat_minor": 5
}
