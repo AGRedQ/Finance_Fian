{
 "cells": [
  {
   "cell_type": "code",
   "execution_count": null,
   "id": "9fa25391",
   "metadata": {},
   "outputs": [
    {
     "name": "stdout",
     "output_type": "stream",
     "text": [
      "                                      query  \\\n",
      "4525  Give me the latest news on AMD stock.   \n",
      "1329             Show me the RSI for Tesla.   \n",
      "2466                Is NVDA a good buy now?   \n",
      "2058  Display the moving average for GOOGL.   \n",
      "5514  Give me the latest news on AMD stock.   \n",
      "\n",
      "                           processed_query  \n",
      "4525  give me the latest news on amd stock  \n",
      "1329             show me the rsi for tesla  \n",
      "2466                is nvda a good buy now  \n",
      "2058  display the moving average for googl  \n",
      "5514  give me the latest news on amd stock  \n"
     ]
    }
   ],
   "source": [
    "import pandas as pd\n",
    "import re\n",
    "\n",
    "# Simple text preprocessing function\n",
    "def preprocess_text(text):\n",
    "    text = text.lower()  # Lowercase\n",
    "    text = re.sub(r'[^a-z0-9\\s]', '', text)  # Remove punctuation\n",
    "    text = re.sub(r'\\s+', ' ', text).strip()  # Remove extra whitespace\n",
    "    return text\n",
    "\n",
    "# Apply preprocessing to the 'query' column\n",
    "df['processed_query'] = df['query'].astype(str).apply(preprocess_text)\n",
    "\n",
    "# Print 5 samples\n",
    "print(df[['query', 'processed_query']].sample(5))\n"
   ]
  },
  {
   "cell_type": "code",
   "execution_count": 4,
   "id": "d2362c78",
   "metadata": {},
   "outputs": [
    {
     "name": "stdout",
     "output_type": "stream",
     "text": [
      "Logistic Regression Accuracy: 1.0000\n",
      "SVM Accuracy: 1.0000\n",
      "Random Forest Accuracy: 1.0000\n"
     ]
    }
   ],
   "source": [
    "from sklearn.model_selection import train_test_split\n",
    "from sklearn.feature_extraction.text import TfidfVectorizer\n",
    "from sklearn.linear_model import LogisticRegression\n",
    "from sklearn.svm import LinearSVC\n",
    "from sklearn.ensemble import RandomForestClassifier\n",
    "from sklearn.metrics import accuracy_score\n",
    "\n",
    "# Split data (80% train, 20% test)\n",
    "X_train, X_test, y_train, y_test = train_test_split(\n",
    "    df['processed_query'], df['label'], test_size=0.2, random_state=42, stratify=df['label']\n",
    ")\n",
    "\n",
    "# Vectorize text\n",
    "vectorizer = TfidfVectorizer()\n",
    "X_train_vec = vectorizer.fit_transform(X_train)\n",
    "X_test_vec = vectorizer.transform(X_test)\n",
    "\n",
    "# Logistic Regression\n",
    "lr = LogisticRegression(max_iter=1000)\n",
    "lr.fit(X_train_vec, y_train)\n",
    "lr_pred = lr.predict(X_test_vec)\n",
    "lr_acc = accuracy_score(y_test, lr_pred)\n",
    "\n",
    "# SVM\n",
    "svm = LinearSVC()\n",
    "svm.fit(X_train_vec, y_train)\n",
    "svm_pred = svm.predict(X_test_vec)\n",
    "svm_acc = accuracy_score(y_test, svm_pred)\n",
    "\n",
    "# Random Forest\n",
    "rf = RandomForestClassifier(n_estimators=100, random_state=42)\n",
    "rf.fit(X_train_vec, y_train)\n",
    "rf_pred = rf.predict(X_test_vec)\n",
    "rf_acc = accuracy_score(y_test, rf_pred)\n",
    "\n",
    "print(f\"Logistic Regression Accuracy: {lr_acc:.4f}\")\n",
    "print(f\"SVM Accuracy: {svm_acc:.4f}\")\n",
    "print(f\"Random Forest Accuracy: {rf_acc:.4f}\")"
   ]
  },
  {
   "cell_type": "code",
   "execution_count": 21,
   "id": "f64a279f",
   "metadata": {},
   "outputs": [
    {
     "name": "stdout",
     "output_type": "stream",
     "text": [
      "Query: Can a banana drive a car?\n",
      "  Logistic Regression: not_stock\n",
      "  SVM: not_stock\n",
      "  Random Forest: not_stock\n",
      "\n",
      "Query: What is the square root of a sandwich?\n",
      "  Logistic Regression: stock\n",
      "  SVM: stock\n",
      "  Random Forest: stock\n",
      "\n",
      "Query: How many unicorns fit in a teacup?\n",
      "  Logistic Regression: not_stock\n",
      "  SVM: not_stock\n",
      "  Random Forest: not_stock\n",
      "\n",
      "Query: Translate 'meow' to dolphin language.\n",
      "  Logistic Regression: not_stock\n",
      "  SVM: not_stock\n",
      "  Random Forest: not_stock\n",
      "\n",
      "Query: Is it raining spaghetti on Mars today?\n",
      "  Logistic Regression: not_stock\n",
      "  SVM: not_stock\n",
      "  Random Forest: not_stock\n",
      "\n"
     ]
    }
   ],
   "source": [
    "# Example queries\n",
    "queries = [\n",
    "    \"Can a banana drive a car?\",\n",
    "    \"What is the square root of a sandwich?\",\n",
    "    \"How many unicorns fit in a teacup?\",\n",
    "    \"Translate 'meow' to dolphin language.\",\n",
    "    \"Is it raining spaghetti on Mars today?\"\n",
    "]\n",
    "\n",
    "# Preprocess example queries\n",
    "processed_queries = [preprocess_text(q) for q in queries]\n",
    "\n",
    "# Vectorize example queries\n",
    "queries_vec = vectorizer.transform(processed_queries)\n",
    "\n",
    "# Predict with all three models\n",
    "lr_preds = lr.predict(queries_vec)\n",
    "svm_preds = svm.predict(queries_vec)\n",
    "rf_preds = rf.predict(queries_vec)\n",
    "\n",
    "# Display predictions\n",
    "for i, q in enumerate(queries):\n",
    "    print(f\"Query: {q}\")\n",
    "    print(f\"  Logistic Regression: {lr_preds[i]}\")\n",
    "    print(f\"  SVM: {svm_preds[i]}\")\n",
    "    print(f\"  Random Forest: {rf_preds[i]}\")\n",
    "    print()"
   ]
  },
  {
   "cell_type": "code",
   "execution_count": 36,
   "id": "dde640bd",
   "metadata": {},
   "outputs": [
    {
     "ename": "ModuleNotFoundError",
     "evalue": "No module named 'tensorflow'",
     "output_type": "error",
     "traceback": [
      "\u001b[31m---------------------------------------------------------------------------\u001b[39m",
      "\u001b[31mModuleNotFoundError\u001b[39m                       Traceback (most recent call last)",
      "\u001b[36mCell\u001b[39m\u001b[36m \u001b[39m\u001b[32mIn[36]\u001b[39m\u001b[32m, line 2\u001b[39m\n\u001b[32m      1\u001b[39m \u001b[38;5;28;01mfrom\u001b[39;00m\u001b[38;5;250m \u001b[39m\u001b[34;01mtransformers\u001b[39;00m\u001b[38;5;250m \u001b[39m\u001b[38;5;28;01mimport\u001b[39;00m DistilBertTokenizerFast, TFDistilBertForSequenceClassification\n\u001b[32m----> \u001b[39m\u001b[32m2\u001b[39m \u001b[38;5;28;01mimport\u001b[39;00m\u001b[38;5;250m \u001b[39m\u001b[34;01mtensorflow\u001b[39;00m\u001b[38;5;250m \u001b[39m\u001b[38;5;28;01mas\u001b[39;00m\u001b[38;5;250m \u001b[39m\u001b[34;01mtf\u001b[39;00m\n\u001b[32m      3\u001b[39m \u001b[38;5;28;01mfrom\u001b[39;00m\u001b[38;5;250m \u001b[39m\u001b[34;01msklearn\u001b[39;00m\u001b[34;01m.\u001b[39;00m\u001b[34;01mpreprocessing\u001b[39;00m\u001b[38;5;250m \u001b[39m\u001b[38;5;28;01mimport\u001b[39;00m LabelEncoder\n\u001b[32m      5\u001b[39m \u001b[38;5;66;03m# Encode labels\u001b[39;00m\n",
      "\u001b[31mModuleNotFoundError\u001b[39m: No module named 'tensorflow'"
     ]
    }
   ],
   "source": [
    "from transformers import DistilBertTokenizerFast, TFDistilBertForSequenceClassification\n",
    "import tensorflow as tf\n",
    "from sklearn.preprocessing import LabelEncoder\n",
    "\n",
    "# Encode labels\n",
    "le = LabelEncoder()\n",
    "y_train_enc = le.fit_transform(y_train)\n",
    "y_test_enc = le.transform(y_test)\n",
    "\n",
    "# Load tokenizer and model\n",
    "tokenizer = DistilBertTokenizerFast.from_pretrained('distilbert-base-uncased')\n",
    "model = TFDistilBertForSequenceClassification.from_pretrained('distilbert-base-uncased', num_labels=len(le.classes_))\n",
    "\n",
    "# Tokenize data\n",
    "train_encodings = tokenizer(list(X_train), truncation=True, padding=True, max_length=64)\n",
    "test_encodings = tokenizer(list(X_test), truncation=True, padding=True, max_length=64)\n",
    "\n",
    "# Convert to tf.data.Dataset\n",
    "train_dataset = tf.data.Dataset.from_tensor_slices((\n",
    "    dict(train_encodings),\n",
    "    y_train_enc\n",
    ")).batch(16)\n",
    "\n",
    "test_dataset = tf.data.Dataset.from_tensor_slices((\n",
    "    dict(test_encodings),\n",
    "    y_test_enc\n",
    ")).batch(16)\n",
    "\n",
    "# Compile and train\n",
    "model.compile(optimizer=tf.keras.optimizers.Adam(learning_rate=5e-5),\n",
    "              loss=tf.keras.losses.SparseCategoricalCrossentropy(from_logits=True),\n",
    "              metrics=['accuracy'])\n",
    "\n",
    "model.fit(train_dataset, epochs=2, validation_data=test_dataset)\n",
    "\n",
    "# Evaluate\n",
    "loss, accuracy = model.evaluate(test_dataset)\n",
    "print(f\"DistilBERT Test Accuracy: {accuracy:.4f}\")"
   ]
  }
 ],
 "metadata": {
  "kernelspec": {
   "display_name": "Python 3",
   "language": "python",
   "name": "python3"
  },
  "language_info": {
   "codemirror_mode": {
    "name": "ipython",
    "version": 3
   },
   "file_extension": ".py",
   "mimetype": "text/x-python",
   "name": "python",
   "nbconvert_exporter": "python",
   "pygments_lexer": "ipython3",
   "version": "3.13.0"
  }
 },
 "nbformat": 4,
 "nbformat_minor": 5
}
